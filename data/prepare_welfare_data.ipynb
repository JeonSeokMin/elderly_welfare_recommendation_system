{
 "cells": [
  {
   "cell_type": "code",
   "execution_count": 1,
   "metadata": {},
   "outputs": [
    {
     "data": {
      "text/plain": [
       "True"
      ]
     },
     "execution_count": 1,
     "metadata": {},
     "output_type": "execute_result"
    }
   ],
   "source": [
    "from dotenv import load_dotenv\n",
    "\n",
    "# .env 파일 로드\n",
    "load_dotenv()"
   ]
  },
  {
   "cell_type": "code",
   "execution_count": 2,
   "metadata": {},
   "outputs": [],
   "source": [
    "import os\n",
    "\n",
    "# API 키 가져오기 (환경 변수에서)\n",
    "SERVICE_KEY = os.getenv(\"SERVICE_KEY\")"
   ]
  },
  {
   "cell_type": "code",
   "execution_count": 4,
   "metadata": {},
   "outputs": [],
   "source": [
    "# 공공데이터포털 API 통해 데이터호출\n",
    "\n",
    "import requests\n",
    "\n",
    "url = \"http://apis.data.go.kr/B554287/LocalGovernmentWelfareInformations/LcgvWelfarelist\"\n",
    "\n",
    "params = {\n",
    "    \"serviceKey\": SERVICE_KEY,\n",
    "    \"pageNo\": \"1\",\n",
    "    \"numOfRows\": \"1332\",\n",
    "    \"lifeArray\": \"006\",\n",
    "    \"srchKeyCode\": \"003\"\n",
    "    # \"_type\": \"json\"  # 필요시 JSON으로\n",
    "}\n",
    "\n",
    "response = requests.get(url, params=params)"
   ]
  },
  {
   "cell_type": "code",
   "execution_count": 5,
   "metadata": {},
   "outputs": [
    {
     "name": "stdout",
     "output_type": "stream",
     "text": [
      "<?xml version=\"1.0\" ?>\n",
      "<wantedList>\n",
      "  <totalCount>1332</totalCount>\n",
      "  <pageNo>1</pageNo>\n",
      "  <numOfRows>1332</numOfRows>\n",
      "  <resultCode>0</resultCode>\n",
      "  <resultMessage>SUCCESS</resultMessage>\n",
      "  <servList>\n",
      "    <aplyMtdNm>방문</aplyMtdNm>\n",
      "    <bizChrDeptNm>광주광역시 경제창업국 농업동물정책과</bizChrDeptNm>\n",
      "    <ctpvNm>광주광역시</ctpvNm>\n",
      "    <inqNum>944</inqNum>\n",
      "    <intrsThemaNmArray>서민금융</intrsThemaNmArray>\n",
      "    <lastModYmd>20250705</lastModYmd>\n",
      "    <lifeNmArray>중장년, 노년, 청년</lifeNmArray>\n",
      "    <servDgst>농업의 공익적 기능 유지․증진을 통해 지속 가능한 농업환경 조성 및\n",
      "농민의 삶의 질 향상 도모</servDgst>\n",
      "    <servDtlLink>https://www.bokjiro.go.kr/ssis-tbu/twataa/wlfareInfo/moveTWAT52011M.do?wlfareInfoId=WLF00005111&amp;wlfareInfoReldBztpCd=02</servDtlLink>\n",
      "    <servId>WLF00005111</servId>\n",
      "    <servNm>광주광역시 농민공익수당 지원</servNm>\n",
      "    <sprtCycNm>년</sprtCycNm>\n",
      "    <srvPvsnNm>지역화폐</srvPvsnNm>\n",
      "  </servList>\n",
      "  <servList>\n",
      "    <bizChrDeptNm>대구광역시 시민안전실 건강증진과</bizChrDeptNm>\n",
      "    <ctpvNm>대구광역시</ctpvNm>\n",
      "    <inqNum>1248</inqNum>\n",
      "    <intrsThemaNmArray>서민금융</intrsThema\n"
     ]
    }
   ],
   "source": [
    "# 데이터 Pretty print 진행\n",
    "\n",
    "import xml.dom.minidom\n",
    "\n",
    "# DOM 파싱\n",
    "parsed = xml.dom.minidom.parseString(response.text)\n",
    "\n",
    "# 예쁘게 출력\n",
    "pretty_xml_as_string = parsed.toprettyxml(indent=\"  \")\n",
    "\n",
    "print(pretty_xml_as_string[:1000])  # 일부만 보기\n"
   ]
  },
  {
   "cell_type": "code",
   "execution_count": 6,
   "metadata": {},
   "outputs": [],
   "source": [
    "# 데이터 저장\n",
    "\n",
    "with open(\"welfare_data.txt\", \"w\", encoding=\"utf-8\") as f:\n",
    "    f.write(pretty_xml_as_string)"
   ]
  },
  {
   "cell_type": "code",
   "execution_count": null,
   "metadata": {},
   "outputs": [],
   "source": []
  }
 ],
 "metadata": {
  "kernelspec": {
   "display_name": "EverGuide",
   "language": "python",
   "name": "python3"
  },
  "language_info": {
   "codemirror_mode": {
    "name": "ipython",
    "version": 3
   },
   "file_extension": ".py",
   "mimetype": "text/x-python",
   "name": "python",
   "nbconvert_exporter": "python",
   "pygments_lexer": "ipython3",
   "version": "3.11.10"
  }
 },
 "nbformat": 4,
 "nbformat_minor": 2
}
