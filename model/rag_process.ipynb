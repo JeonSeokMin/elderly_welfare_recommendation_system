{
 "cells": [
  {
   "cell_type": "code",
   "execution_count": 1,
   "metadata": {},
   "outputs": [],
   "source": [
    "import pandas as pd"
   ]
  },
  {
   "cell_type": "markdown",
   "metadata": {},
   "source": [
    "### Step 0. 청크 생성"
   ]
  },
  {
   "cell_type": "code",
   "execution_count": 2,
   "metadata": {},
   "outputs": [],
   "source": [
    "# 데이터 준비\n",
    "\n",
    "welfare_data = pd.read_csv(\"../data/welfare_dataframe.csv\")"
   ]
  },
  {
   "cell_type": "code",
   "execution_count": 3,
   "metadata": {},
   "outputs": [],
   "source": [
    "# 청크 생성\n",
    "\n",
    "def make_policy_chunk(row):\n",
    "    return f\"\"\"[정책명] {row['servNm']}\n",
    "\n",
    "[지원유형] {row['지원유형']}\n",
    "[지원내용] {row['alwServCn']}\n",
    "\n",
    "[대상 기준] \n",
    "{row['sprtTrgtCn']}\n",
    "\n",
    "[선정기준] \n",
    "{row['slctCritCn']}\n",
    "\n",
    "[신청안내] {row['신청안내']}\n",
    "[지원주기] {row['sprtCycNm']}\n",
    "[시행지역] {row['ctpvNm']} > {row['sggNm']}\n",
    "[시행기간] {row['시행기간_표기']}\n",
    "\n",
    "[상세보기] {row['servDtlLink']}\n",
    "\"\"\"\n",
    "\n",
    "welfare_data[\"rag_청크\"] = welfare_data.apply(make_policy_chunk, axis=1)"
   ]
  },
  {
   "cell_type": "markdown",
   "metadata": {},
   "source": [
    "### Step 1. 청크 리스트 만들기"
   ]
  },
  {
   "cell_type": "code",
   "execution_count": 6,
   "metadata": {},
   "outputs": [],
   "source": [
    "documents = welfare_data[\"rag_청크\"].tolist()"
   ]
  },
  {
   "cell_type": "markdown",
   "metadata": {},
   "source": [
    "### Step 2. Embedding model 선택"
   ]
  },
  {
   "cell_type": "code",
   "execution_count": 7,
   "metadata": {},
   "outputs": [
    {
     "name": "stderr",
     "output_type": "stream",
     "text": [
      "/var/folders/m1/bqb2x_hs2p3c9xfm8sbxkgcr0000gn/T/ipykernel_66951/813552778.py:3: LangChainDeprecationWarning: The class `HuggingFaceEmbeddings` was deprecated in LangChain 0.2.2 and will be removed in 1.0. An updated version of the class exists in the langchain-huggingface package and should be used instead. To use it run `pip install -U langchain-huggingface` and import as `from langchain_huggingface import HuggingFaceEmbeddings`.\n",
      "  embeddings = HuggingFaceEmbeddings(\n",
      "/Users/jeon/.pyenv/versions/3.11.10/envs/EverGuide/lib/python3.11/site-packages/sentence_transformers/cross_encoder/CrossEncoder.py:13: TqdmExperimentalWarning: Using `tqdm.autonotebook.tqdm` in notebook mode. Use `tqdm.tqdm` instead to force console mode (e.g. in jupyter console)\n",
      "  from tqdm.autonotebook import tqdm, trange\n"
     ]
    },
    {
     "data": {
      "application/vnd.jupyter.widget-view+json": {
       "model_id": "522654be1b7a4e3183b287668fef479b",
       "version_major": 2,
       "version_minor": 0
      },
      "text/plain": [
       "modules.json:   0%|          | 0.00/349 [00:00<?, ?B/s]"
      ]
     },
     "metadata": {},
     "output_type": "display_data"
    },
    {
     "data": {
      "application/vnd.jupyter.widget-view+json": {
       "model_id": "1da9f4e4a07e4438bc089c91ae413035",
       "version_major": 2,
       "version_minor": 0
      },
      "text/plain": [
       "config_sentence_transformers.json:   0%|          | 0.00/220 [00:00<?, ?B/s]"
      ]
     },
     "metadata": {},
     "output_type": "display_data"
    },
    {
     "name": "stderr",
     "output_type": "stream",
     "text": [
      "You try to use a model that was created with version 3.3.1, however, your version is 3.1.1. This might cause unexpected behavior or errors. In that case, try to update to the latest version.\n",
      "\n",
      "\n",
      "\n"
     ]
    },
    {
     "data": {
      "application/vnd.jupyter.widget-view+json": {
       "model_id": "984189a568e048a59037cc6688913a28",
       "version_major": 2,
       "version_minor": 0
      },
      "text/plain": [
       "README.md: 0.00B [00:00, ?B/s]"
      ]
     },
     "metadata": {},
     "output_type": "display_data"
    },
    {
     "data": {
      "application/vnd.jupyter.widget-view+json": {
       "model_id": "8be63bf3712645f296534a23d4876ca6",
       "version_major": 2,
       "version_minor": 0
      },
      "text/plain": [
       "sentence_bert_config.json:   0%|          | 0.00/54.0 [00:00<?, ?B/s]"
      ]
     },
     "metadata": {},
     "output_type": "display_data"
    },
    {
     "data": {
      "application/vnd.jupyter.widget-view+json": {
       "model_id": "1d8b5d772d984b85bd2c88779ddd1581",
       "version_major": 2,
       "version_minor": 0
      },
      "text/plain": [
       "config.json:   0%|          | 0.00/807 [00:00<?, ?B/s]"
      ]
     },
     "metadata": {},
     "output_type": "display_data"
    },
    {
     "data": {
      "application/vnd.jupyter.widget-view+json": {
       "model_id": "6031437dc2ea43dd9acd2ee17e6c1843",
       "version_major": 2,
       "version_minor": 0
      },
      "text/plain": [
       "model.safetensors:   0%|          | 0.00/2.27G [00:00<?, ?B/s]"
      ]
     },
     "metadata": {},
     "output_type": "display_data"
    },
    {
     "data": {
      "application/vnd.jupyter.widget-view+json": {
       "model_id": "98e066344b1d436a976fc5b719bbc8c1",
       "version_major": 2,
       "version_minor": 0
      },
      "text/plain": [
       "tokenizer_config.json: 0.00B [00:00, ?B/s]"
      ]
     },
     "metadata": {},
     "output_type": "display_data"
    },
    {
     "data": {
      "application/vnd.jupyter.widget-view+json": {
       "model_id": "f7b53fd81005404aa285716c989f5c99",
       "version_major": 2,
       "version_minor": 0
      },
      "text/plain": [
       "tokenizer.json:   0%|          | 0.00/17.1M [00:00<?, ?B/s]"
      ]
     },
     "metadata": {},
     "output_type": "display_data"
    },
    {
     "data": {
      "application/vnd.jupyter.widget-view+json": {
       "model_id": "3f0bcacfc715436195ce5372383a3350",
       "version_major": 2,
       "version_minor": 0
      },
      "text/plain": [
       "special_tokens_map.json:   0%|          | 0.00/964 [00:00<?, ?B/s]"
      ]
     },
     "metadata": {},
     "output_type": "display_data"
    },
    {
     "data": {
      "application/vnd.jupyter.widget-view+json": {
       "model_id": "cce445530e5a41d89ecff5cae5fc7a47",
       "version_major": 2,
       "version_minor": 0
      },
      "text/plain": [
       "config.json:   0%|          | 0.00/297 [00:00<?, ?B/s]"
      ]
     },
     "metadata": {},
     "output_type": "display_data"
    }
   ],
   "source": [
    "from langchain_community.embeddings import HuggingFaceEmbeddings\n",
    "\n",
    "embeddings = HuggingFaceEmbeddings(\n",
    "    model_name=\"nlpai-lab/KURE-v1\",\n",
    "    model_kwargs={\"device\": \"cpu\"},\n",
    "    encode_kwargs={\"normalize_embeddings\": True}\n",
    ")"
   ]
  },
  {
   "cell_type": "markdown",
   "metadata": {},
   "source": [
    "### Step 3. Document 리스트 생성 (passage: prefix 포함!)"
   ]
  },
  {
   "cell_type": "code",
   "execution_count": 8,
   "metadata": {},
   "outputs": [],
   "source": [
    "from langchain_core.documents import Document\n",
    "\n",
    "documents = [\n",
    "    Document(\n",
    "        page_content=\"passage: \" + row[\"rag_청크\"],  # 꼭 prefix 넣기\n",
    "        metadata={\"servId\": row[\"servId\"], \"servNm\": row[\"servNm\"]}  # 추가로 servNm 등 넣어도 좋음\n",
    "    )\n",
    "    for _, row in welfare_data.iterrows()\n",
    "]"
   ]
  },
  {
   "cell_type": "markdown",
   "metadata": {},
   "source": [
    "### Step 4. FAISS 벡터 저장소에 인덱싱"
   ]
  },
  {
   "cell_type": "code",
   "execution_count": 9,
   "metadata": {},
   "outputs": [],
   "source": [
    "from langchain.vectorstores import FAISS\n",
    "\n",
    "vectorstore = FAISS.from_documents(documents=documents, embedding=embeddings)"
   ]
  },
  {
   "cell_type": "markdown",
   "metadata": {},
   "source": [
    "### Step 5. 검색(예시)"
   ]
  },
  {
   "cell_type": "code",
   "execution_count": 22,
   "metadata": {},
   "outputs": [
    {
     "name": "stdout",
     "output_type": "stream",
     "text": [
      "[Document(metadata={'servId': 'WLF00000339', 'servNm': '노인건강진단 '}, page_content='passage: [정책명] 노인건강진단 \\n\\n[지원유형] 기타\\n[지원내용] 경제적인 어려움으로 의료서비스 혜택에서 소외되기 쉬운 65세 이상 국민기초생활보장대상자 및 차상위자 중 희망자에게 조기치료 서비스를 제공함으로써 건강한 노후생활을 보장\\n\\n[대상 기준] \\n65세 이상 국민기초생활보장수급자 및 차상위 의료급여수급자 중 희망자\\n\\n[선정기준] \\n기초생활보장대상자 및 차상위계층\\n\\n[신청안내] 신청 방법에 대한 정보가 제공되지 않았습니다.\\n[지원주기] 1회성\\n[시행지역] 경상남도 > 밀양시\\n[시행기간] 무기한\\n\\n[상세보기] https://www.bokjiro.go.kr/ssis-tbu/twataa/wlfareInfo/moveTWAT52011M.do?wlfareInfoId=WLF00000339&wlfareInfoReldBztpCd=02\\n'), Document(metadata={'servId': 'WLF00002420', 'servNm': '노인복지 개선 (저소득노인 건강보험 및 장기요양보험료 지원)'}, page_content='passage: [정책명] 노인복지 개선 (저소득노인 건강보험 및 장기요양보험료 지원)\\n\\n[지원유형] 현물\\n[지원내용] 국민건강보험료 및 노인장기요양보험료 지원\\n\\n[대상 기준] \\n차상위계층 주민 중 보험료 부과액이 월 15,000원 이하인 가구 중\\r\\nㆍ 만65세 이상의 노인세대\\r\\nㆍ 만65세 미만의 노인성 질병을 가진 사람이 있는 세대\\r\\nㆍ 그 밖에 구청장이 보험료 지원이 필요하다고 인정하는 저소득가구\\n\\n[선정기준] \\n자산 5400000원 이하\\n\\n[신청안내] 별도 신청절차 없음\\r\\n(국민건강보험공단에서 대상자 발송)\\n[지원주기] 월\\n[시행지역] 서울특별시 > 강동구\\n[시행기간] 무기한\\n\\n[상세보기] https://www.bokjiro.go.kr/ssis-tbu/twataa/wlfareInfo/moveTWAT52011M.do?wlfareInfoId=WLF00002420&wlfareInfoReldBztpCd=02\\n'), Document(metadata={'servId': 'WLF00004069', 'servNm': '저소득 노인가구 건강보험료'}, page_content='passage: [정책명] 저소득 노인가구 건강보험료\\n\\n[지원유형] 기타\\n[지원내용] 부과 건강보험료 및 장기요양보험료\\n\\n[대상 기준] \\n주민등록상 만 65세 이상 노인가구로서 국민건강보험법 제 6조제3항에 의한 지역가입자중 산정 건강보험료가 하한액인 노인가구\\n\\n[선정기준] \\n주민등록상 만 65세 이상 개별가구로서 국민건강보험법 제 6조제3항에 의한 지역가입자중 산정 건강보험료가 하한액인 개별가구\\n\\n[신청안내] 신청 방법에 대한 정보가 제공되지 않았습니다.\\n[지원주기] 월\\n[시행지역] 경기도 > 경기도\\n[시행기간] 무기한\\n\\n[상세보기] https://www.bokjiro.go.kr/ssis-tbu/twataa/wlfareInfo/moveTWAT52011M.do?wlfareInfoId=WLF00004069&wlfareInfoReldBztpCd=02\\n')]\n"
     ]
    }
   ],
   "source": [
    "query = \"query: 노년층 의료지원 정책이 뭐야?\"\n",
    "results = vectorstore.similarity_search(query, k=3)\n",
    "\n",
    "print(results)"
   ]
  },
  {
   "cell_type": "markdown",
   "metadata": {},
   "source": [
    "### Step 6. LLM을 활용한 RAG 질의응답 흐름"
   ]
  },
  {
   "cell_type": "code",
   "execution_count": 13,
   "metadata": {},
   "outputs": [
    {
     "name": "stderr",
     "output_type": "stream",
     "text": [
      "/var/folders/m1/bqb2x_hs2p3c9xfm8sbxkgcr0000gn/T/ipykernel_66951/1835129823.py:16: LangChainDeprecationWarning: The method `Chain.run` was deprecated in langchain 0.1.0 and will be removed in 1.0. Use invoke instead.\n",
      "  result = qa_chain.run(query)\n"
     ]
    },
    {
     "name": "stdout",
     "output_type": "stream",
     "text": [
      "🧠 RAG 응답 결과:\n",
      " \n",
      "\n",
      "만 70세 이상 노인을 위한 다양한 복지 정책들이 존재합니다. 여기 몇 가지 예시를 들어볼게요:\n",
      "\n",
      "1. **노인 목욕 및 이·미용권 지원 (금산군)**:\n",
      "   - **지원내용**: 1인 연 16매 지원(목욕 및 이미용권)\n",
      "   - **대상 기준**: 70세 이상 생계·의료급여 수급자\n",
      "   - **신청안내**: 별도 신청 없이 직접 지원\n",
      "   - **시행기간**: 무기한\n",
      "  \n",
      "2. **70세 이상 어르신 목욕비 및 이미용비 지원 (예산군)**:\n",
      "   - **지원내용**: 바우처카드 지원(1인당 연 108천원 충전, 반기별 54천원 충전)\n",
      "   - **대상 기준**: 관내 거주 중인 70세 이상 어르신\n",
      "   - **신청안내**: 별도 신청 없이 직접 지원\n",
      "   - **시행기간**: 무기한\n",
      "  \n",
      "3. **노인복지관 운영 (화성시)**:\n",
      "    - **지원내용**: 노인복지관 운영을 통해 다양한 여가 및 복지 서비스 제공\n",
      "    - **대상 기준**: 화성시에 주소지를 둔 만 60세 이상 노인\n",
      "    - **신청안내**: 별도 신청 없이 직접 지원\n",
      "    - **시행기간**: 무기한\n",
      "  \n",
      "위의 정책들은 지역별로 다소 차이가 있지만, 공통적으로 만 70세 이상 노인을 대상으로 하고 있습니다. 추가적인 세부 사항이나 최신 정보는 해당 기관의 웹사이트를 통해 확인하시길 권장드립니다.\n"
     ]
    }
   ],
   "source": [
    "from langchain.chains import RetrievalQA\n",
    "from langchain_community.chat_models import ChatOllama\n",
    "\n",
    "# LLM 선택: Exaone\n",
    "llm_EXAONE = ChatOllama(model=\"exaone-3.0-7.8b-it-Q8_0:latest\")\n",
    "\n",
    "# RAG QA Chain 구성\n",
    "qa_chain = RetrievalQA.from_chain_type(\n",
    "    llm=llm_EXAONE,\n",
    "    retriever=vectorstore.as_retriever(),\n",
    "    chain_type=\"stuff\",  # 또는 \"map_reduce\", \"refine\" 등\n",
    ")\n",
    "\n",
    "# 질의 테스트\n",
    "query = \"만 70세 이상 노인을 위한 복지 정책이 뭐가 있어?\"\n",
    "result = qa_chain.run(query)\n",
    "\n",
    "print(\"🧠 RAG 응답 결과:\\n\", result)"
   ]
  },
  {
   "cell_type": "markdown",
   "metadata": {},
   "source": [
    "### Step 6-1. 추천 이유 설명(확장) - Rationale"
   ]
  },
  {
   "cell_type": "code",
   "execution_count": 26,
   "metadata": {},
   "outputs": [],
   "source": [
    "example_question = \"65세 여성 노인이 보건의료 관련해서 제주도에서 지원받을 수 있는 정책은 뭐가 있어?\" \n",
    "example_query = f'query: {example_question}'\n",
    "\n",
    "rag_results = vectorstore.similarity_search(example_query, k=3)"
   ]
  },
  {
   "cell_type": "code",
   "execution_count": 27,
   "metadata": {},
   "outputs": [
    {
     "name": "stderr",
     "output_type": "stream",
     "text": [
      "/var/folders/m1/bqb2x_hs2p3c9xfm8sbxkgcr0000gn/T/ipykernel_66951/1524851847.py:18: LangChainDeprecationWarning: The class `LLMChain` was deprecated in LangChain 0.1.17 and will be removed in 1.0. Use RunnableSequence, e.g., `prompt | llm` instead.\n",
      "  explanation_chain = LLMChain(\n"
     ]
    },
    {
     "name": "stdout",
     "output_type": "stream",
     "text": [
      "\n",
      "\n",
      "\u001b[1m> Entering new LLMChain chain...\u001b[0m\n",
      "Prompt after formatting:\n",
      "\u001b[32;1m\u001b[1;3m\n",
      "사용자가 다음과 같은 질문을 했습니다:\n",
      "\"query: 65세 여성 노인이 보건의료 관련해서 제주도에서 지원받을 수 있는 정책은 뭐가 있어?\"\n",
      "\n",
      "이에 대해 다음과 같은 정책이 추천되었습니다:\n",
      "\"[Document(metadata={'servId': 'WLF00001754', 'servNm': '노인건강진단 '}, page_content='passage: [정책명] 노인건강진단 \\n\\n[지원유형] 서비스\\n[지원내용] 1) 지원기준 \\n  - 진료비 : 1인당 (115,300원)\\n   \\n2) 검진항목 : 개인질환별 정밀검진\\n\\n[대상 기준] \\n1) 지원대상 \\r\\n - 65세 이상 기초생활수급자 및 차상위 계층 노인 중 건강진단희망자\\r\\n    (단, 전년도 수검자중 건강한자는 제외)\\r\\n   \\r\\n2) 선정기준 \\r\\n - 1. 2차 노인건강진단 결과 유질환자로 판정된 어르신에 한함.\\n\\n[선정기준] \\n65세 이상 기초의료급여 수급권자 중 건강진단희망자\\n\\n[신청안내] 1) 신청방법 : 유질환자로 판정된 어르신에 한하여 진료의뢰(시.군- 종합병원)\\n2) 검진기관 : 종합병원\\n3) 지급시기 및 방법\\n - 지급시기 : 유질환자에 대한 진료종료시\\n - 지급방법 : 해당시.군에서 진료기관 계좌로 직접 입금\\n[지원주기] 1회성\\n[시행지역] 제주특별자치도 > 제주시\\n[시행기간] 무기한\\n\\n[상세보기] https://www.bokjiro.go.kr/ssis-tbu/twataa/wlfareInfo/moveTWAT52011M.do?wlfareInfoId=WLF00001754&wlfareInfoReldBztpCd=02\\n'), Document(metadata={'servId': 'WLF00004304', 'servNm': '노인건강진단사업'}, page_content='passage: [정책명] 노인건강진단사업\\n\\n[지원유형] 서비스\\n[지원내용] ○ 지원기준: 1인당 최대 150,000원 범위 내 검진료 전액 무료(본인부담금 없음)\\n\\n○ 지원내용\\n - 기본진료 및 안질환, 심전도, 당뇨, 골다공증 등 무료검진 지원\\n - 지원범위 : 진료비의 비급여 포함 본인 부담금\\n - 지원방법 : 환자를 진료한 의료기관에 수검비용 지급\\n - 건강진단으로 확인된 유질환인 경우 예산범위 내에서 진료비 지원\\n\\n[대상 기준] \\n○ 시·군·구 관할구역에 거주하는 65세 이상 의료급여 수급권자 중 노인건강진단 희망자\\n\\n[선정기준] \\n65세 이상 의료급여 수급권자 중 노인건강진단 희망자\\n\\n[신청안내] ○ 65세 이상 의료급여 수급권자 중 노인건강진단 대상자가 직접 관할 읍면동에 신청\\n[지원주기] 1회성\\n[시행지역] 제주특별자치도 > 서귀포시\\n[시행기간] 무기한\\n\\n[상세보기] https://www.bokjiro.go.kr/ssis-tbu/twataa/wlfareInfo/moveTWAT52011M.do?wlfareInfoId=WLF00004304&wlfareInfoReldBztpCd=02\\n'), Document(metadata={'servId': 'WLF00001903', 'servNm': '백내장 수술비 지원'}, page_content='passage: [정책명] 백내장 수술비 지원\\n\\n[지원유형] 기타\\n[지원내용] 지원 범위: 백내장 수술비 120,000원 이내 지원(연 1인/1안/1회)\\n\\n[대상 기준] \\n만 65세이상이며 백내장 수술이 필요한 어르신 중\\n- 기초연금 수급자, 기초생활 수급자, 등록장애인, 국가유공자(본인)\\n\\n[선정기준] \\n만 65세이상이며 백내장 수술이 필요한 어르신 중\\n- 기초연금 수급자, 기초생활 수급자, 등록장애인, 국가유공자(본인)\\n\\n[신청안내] 지정 의료기관에서 백내장 수술 필요 여부 진단 및 수술예정일 확정 후 구비서류 지참하여 보건소 방문, 보건소에서 수술 의뢰서(유효기간 30일) 발급 받은 후 지정 의료기관에 의뢰서 제출하고 백내장 수술 시행\\n[지원주기] 1회성\\n[시행지역] 제주특별자치도 > 제주시\\n[시행기간] 무기한\\n\\n[상세보기] https://www.bokjiro.go.kr/ssis-tbu/twataa/wlfareInfo/moveTWAT52011M.do?wlfareInfoId=WLF00001903&wlfareInfoReldBztpCd=02\\n')]\"\n",
      "\n",
      "이 정책이 사용자에게 적합한 이유를 알려주세요. \n",
      "- 어떤 대상이나 조건이 일치해서 추천되었는지 설명해주세요.\n",
      "- 노년층도 이해할 수 있도록 친절하게 알려주세요.\n",
      "\u001b[0m\n",
      "\n",
      "\u001b[1m> Finished chain.\u001b[0m\n",
      "\n",
      "\n",
      "이 정책들이 사용자에게 적합한 이유는 다음과 같습니다:\n",
      "\n",
      "안녕하세요! 귀하께서 제주도에서 지원받을 수 있는 보건의료 관련 정책들을 찾고 계시는데요, 제가 추천해드린 세 가지 정책이 왜 적합한지 친절하게 설명드릴게요.\n",
      "\n",
      "1. **노인건강진단** (WLF00001754)\n",
      "   - **대상:** 65세 이상의 기초생활수급자 및 차상위 계층 노인 중 건강진단을 희망하시는 분들\n",
      "     - 특히 기초연금 수급자나 기초의료급여 수급권자에 해당되면 더욱 유리합니다.\n",
      "   - **지원내용:** 진료비 전액 무료로 개인질환별 정밀검진 지원\n",
      "      - 예를 들어, 기본진료와 함께 안질환 검사, 심전도 검사 등 다양한 항목이 포함됩니다.\n",
      "     \n",
      "2. **노인건강진단사업** (WLF00004304)\n",
      "   - **대상:** 65세 이상의 의료급여 수급권자 중 건강진단 희망자\n",
      "      - 기초연금 수급자도 이에 해당될 수 있습니다.\n",
      "   - **지원내용:** 무료검진(본인 부담금 없음), 기본진료 외에도 안질환, 심전도 등 다양한 항목 검진 가능\n",
      "     - 만약 유질환자로 판정되었을 경우 추가적인 진료 비용 일부가 지원됩니다.\n",
      "  \n",
      "3. **백내장 수술비 지원** (WLF00001903)\n",
      "   - **대상:** 만 65세 이상이며 백내장 수술이 필요한 어르신 중 기초연금 수급자, 기초생활 수급자, 등록장애인 또는 국가유공자 본인\n",
      "      - 이 조건에 해당되면 최대 120,000원까지의 백내장 수술 비용을 지원받으실 수 있습니다.\n",
      "   - **지원내용:** 연 1회, 1안당 최대 지원 가능한 금액은 120,000원입니다.\n",
      "  \n",
      "이 세 가지 정책 모두 귀하께서 현재 제주도에 거주하고 계시다면 신청할 수 있는 기회를 제공합니다. 특히 노년층을 위한 건강관리와 의료비용 부담 경감 측면에서 큰 도움이 될 것입니다.\n",
      "\n",
      "더 궁금한 점이나 추가 정보가 필요하시면 언제든지 말씀해주세요!\n"
     ]
    }
   ],
   "source": [
    "from langchain_core.prompts import PromptTemplate\n",
    "from langchain.chains import LLMChain\n",
    "\n",
    "# 1. 프롬프트 준비\n",
    "explanation_template = PromptTemplate.from_template(\"\"\"\n",
    "사용자가 다음과 같은 질문을 했습니다:\n",
    "\"{question}\"\n",
    "\n",
    "이에 대해 다음과 같은 정책이 추천되었습니다:\n",
    "\"{policy}\"\n",
    "\n",
    "이 정책이 사용자에게 적합한 이유를 알려주세요. \n",
    "- 어떤 대상이나 조건이 일치해서 추천되었는지 설명해주세요.\n",
    "- 노년층도 이해할 수 있도록 친절하게 알려주세요.\n",
    "\"\"\")\n",
    "\n",
    "# 2. LLMChain 생성\n",
    "explanation_chain = LLMChain(\n",
    "    llm=llm_EXAONE,\n",
    "    prompt=explanation_template,\n",
    "    verbose=True\n",
    ")\n",
    "\n",
    "# 3. 실행\n",
    "result = explanation_chain.invoke({\n",
    "    \"question\": example_query,\n",
    "    \"policy\": rag_results\n",
    "})\n",
    "\n",
    "print(result[\"text\"])\n"
   ]
  },
  {
   "cell_type": "code",
   "execution_count": null,
   "metadata": {},
   "outputs": [],
   "source": []
  }
 ],
 "metadata": {
  "kernelspec": {
   "display_name": "EverGuide",
   "language": "python",
   "name": "python3"
  },
  "language_info": {
   "codemirror_mode": {
    "name": "ipython",
    "version": 3
   },
   "file_extension": ".py",
   "mimetype": "text/x-python",
   "name": "python",
   "nbconvert_exporter": "python",
   "pygments_lexer": "ipython3",
   "version": "3.11.10"
  }
 },
 "nbformat": 4,
 "nbformat_minor": 2
}
